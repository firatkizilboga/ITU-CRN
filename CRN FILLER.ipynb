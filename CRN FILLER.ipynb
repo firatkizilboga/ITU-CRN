{
 "cells": [
  {
   "cell_type": "code",
   "execution_count": 1,
   "metadata": {},
   "outputs": [
    {
     "name": "stderr",
     "output_type": "stream",
     "text": [
      "\n",
      "\n",
      "====== WebDriver manager ======\n",
      "Current google-chrome version is 105.0.5195\n",
      "Get LATEST chromedriver version for 105.0.5195 google-chrome\n",
      "Trying to download new driver from https://chromedriver.storage.googleapis.com/105.0.5195.52/chromedriver_mac64.zip\n",
      "Driver has been saved in cache [/Users/firatkizilboga/.wdm/drivers/chromedriver/mac64/105.0.5195.52]\n",
      "/var/folders/d1/knskf1l11n1ds8yfn01_vz9w0000gn/T/ipykernel_97616/704310749.py:10: DeprecationWarning: executable_path has been deprecated, please pass in a Service object\n",
      "  driver = webdriver.Chrome(ChromeDriverManager().install())\n"
     ]
    }
   ],
   "source": [
    "from time import sleep\n",
    "from selenium import webdriver\n",
    "from selenium.webdriver.common.keys import Keys\n",
    "import pandas as pd\n",
    "from selenium import webdriver\n",
    "from selenium.webdriver.common.by import By\n",
    "from webdriver_manager.chrome import ChromeDriverManager\n",
    "from selenium.common.exceptions import ElementNotInteractableException\n",
    "\n",
    "driver = webdriver.Chrome(ChromeDriverManager().install())\n",
    "driver.get(\"https://kepler-beta.itu.edu.tr/ogrenci/DersKayitIslemleri/DersKayit\")"
   ]
  },
  {
   "cell_type": "markdown",
   "metadata": {},
   "source": [
    "ENTER YOUR USERNAME AND PASSWORD IN THE VARIABLES BELOW"
   ]
  },
  {
   "cell_type": "code",
   "execution_count": 2,
   "metadata": {},
   "outputs": [],
   "source": [
    "username = \"USERNAME\" #ENTER HERE\n",
    "password = \"PASSWORD\" #ENTER HERE\n",
    "driver.find_element(By.XPATH,\"/html/body/form/div[5]/div/div/div[1]/div/ul/li/div[1]/input\").send_keys(username)\n",
    "driver.find_element(By.XPATH,\"/html/body/form/div[5]/div/div/div[1]/div/ul/li/div[2]/input\").send_keys(password)\n",
    "driver.find_element(By.XPATH,\"/html/body/form/div[5]/div/div/div[1]/div/ul/li/input\").click()\n",
    "sleep(0.5)\n",
    "driver.get(\"https://kepler-beta.itu.edu.tr/ogrenci/DersKayitIslemleri/DersKayit\")"
   ]
  },
  {
   "cell_type": "markdown",
   "metadata": {},
   "source": [
    "EXECUTE THE CODE BELOW TO REFRESH THE PAGE"
   ]
  },
  {
   "cell_type": "code",
   "execution_count": 14,
   "metadata": {},
   "outputs": [],
   "source": [
    "driver.get(\"https://kepler-beta.itu.edu.tr/ogrenci/DersKayitIslemleri/DersKayit\")\n",
    "sleep(0.2)\n"
   ]
  },
  {
   "cell_type": "markdown",
   "metadata": {},
   "source": [
    "ENTER YOUR CRN'S IN TO THE CRN_LIST\n",
    "THE CODE BELOW WILL FILL THE INPUTS AUTOMATICALLY"
   ]
  },
  {
   "cell_type": "code",
   "execution_count": 15,
   "metadata": {},
   "outputs": [],
   "source": [
    "inputs = driver.find_elements(By.TAG_NAME,\"input\")\n",
    "CRN_LIST = [12620,12623,12621,14924,12624,12625] #ENTER HERE\n",
    "for i,c in zip(inputs[:-1],CRN_LIST):\n",
    "    i.send_keys(c)\n",
    "driver.execute_script(\"window.scrollTo(0, document.body.scrollHeight);\")"
   ]
  }
 ],
 "metadata": {
  "interpreter": {
   "hash": "010b172202b91df11f8534a3cf21db1818c5c6d8a67eda3fcc5af55d6af7dc9d"
  },
  "kernelspec": {
   "display_name": "Python 3.8.10 ('datascience')",
   "language": "python",
   "name": "python3"
  },
  "language_info": {
   "codemirror_mode": {
    "name": "ipython",
    "version": 3
   },
   "file_extension": ".py",
   "mimetype": "text/x-python",
   "name": "python",
   "nbconvert_exporter": "python",
   "pygments_lexer": "ipython3",
   "version": "3.8.13"
  },
  "orig_nbformat": 4
 },
 "nbformat": 4,
 "nbformat_minor": 2
}
