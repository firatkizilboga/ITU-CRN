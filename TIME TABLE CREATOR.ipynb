{
 "cells": [
  {
   "cell_type": "code",
   "execution_count": 38,
   "metadata": {},
   "outputs": [],
   "source": [
    "from dataAccess import *"
   ]
  },
  {
   "cell_type": "code",
   "execution_count": 4,
   "metadata": {},
   "outputs": [],
   "source": [
    "class_dict = {}"
   ]
  },
  {
   "cell_type": "code",
   "execution_count": 5,
   "metadata": {},
   "outputs": [],
   "source": [
    "CLASSES = [\n",
    "    \"BLG 101E\",\n",
    "    \"BLG 113E\",\n",
    "    \"BLG 102E\",\n",
    "    \"MAT 210E\",\n",
    "    \"BLG 231E\",\n",
    "    \"EHB 222E\",\n",
    "    \"MAT 281E\"\n",
    "    ] #ENTER YOUR CLASSES HERE\n",
    "DEPT = \"BLGE\" #ENTER YOUR DEPARTMENT CODE HERE"
   ]
  },
  {
   "cell_type": "code",
   "execution_count": 39,
   "metadata": {},
   "outputs": [
    {
     "name": "stderr",
     "output_type": "stream",
     "text": [
      "\n",
      "\n",
      "====== WebDriver manager ======\n",
      "Current google-chrome version is 105.0.5195\n",
      "Get LATEST chromedriver version for 105.0.5195 google-chrome\n",
      "Driver [/Users/firatkizilboga/.wdm/drivers/chromedriver/mac64/105.0.5195.52/chromedriver] found in cache\n"
     ]
    },
    {
     "name": "stdout",
     "output_type": "stream",
     "text": [
      "Message: no such element: Unable to locate element: {\"method\":\"xpath\",\"selector\":\"/html/body/div[1]/div[2]/div/div[3]/table/tbody/tr[1]\"}\n",
      "  (Session info: chrome=105.0.5195.102)\n",
      "Stacktrace:\n",
      "0   chromedriver                        0x0000000102d68788 chromedriver + 4515720\n",
      "1   chromedriver                        0x0000000102cec9d3 chromedriver + 4008403\n",
      "2   chromedriver                        0x000000010297f12a chromedriver + 413994\n",
      "3   chromedriver                        0x00000001029b6873 chromedriver + 641139\n",
      "4   chromedriver                        0x00000001029b6a61 chromedriver + 641633\n",
      "5   chromedriver                        0x00000001029e8f64 chromedriver + 847716\n",
      "6   chromedriver                        0x00000001029d37fd chromedriver + 759805\n",
      "7   chromedriver                        0x00000001029e6bd9 chromedriver + 838617\n",
      "8   chromedriver                        0x00000001029d3603 chromedriver + 759299\n",
      "9   chromedriver                        0x00000001029a9990 chromedriver + 588176\n",
      "10  chromedriver                        0x00000001029aaa75 chromedriver + 592501\n",
      "11  chromedriver                        0x0000000102d386cd chromedriver + 4318925\n",
      "12  chromedriver                        0x0000000102d3cf35 chromedriver + 4337461\n",
      "13  chromedriver                        0x0000000102d441ff chromedriver + 4366847\n",
      "14  chromedriver                        0x0000000102d3dc5a chromedriver + 4340826\n",
      "15  chromedriver                        0x0000000102d13c2c chromedriver + 4168748\n",
      "16  chromedriver                        0x0000000102d5a4f8 chromedriver + 4457720\n",
      "17  chromedriver                        0x0000000102d5a693 chromedriver + 4458131\n",
      "18  chromedriver                        0x0000000102d6fa3e chromedriver + 4545086\n",
      "19  libsystem_pthread.dylib             0x00007ff81852e4f4 _pthread_start + 125\n",
      "20  libsystem_pthread.dylib             0x00007ff81852a00f thread_start + 15\n",
      "\n"
     ]
    }
   ],
   "source": [
    "CLASSES = [\"\"]\n",
    "for CLASS in CLASSES:\n",
    "    class_dict[CLASS] = get_class(CLASS,DEPT)"
   ]
  },
  {
   "cell_type": "code",
   "execution_count": 16,
   "metadata": {},
   "outputs": [],
   "source": [
    "CLASS_DATES = {}\n",
    "for CLASS in CLASSES:\n",
    "    DATES = class_dict[CLASS].groupby([\"Gün\",\"Saat\"]).groups.keys()\n",
    "    CLASS_DATES[CLASS] = list(DATES)"
   ]
  },
  {
   "cell_type": "code",
   "execution_count": 17,
   "metadata": {},
   "outputs": [],
   "source": [
    "from itertools import product\n",
    "perms = list(product(*list(CLASS_DATES.values())))"
   ]
  },
  {
   "cell_type": "code",
   "execution_count": 18,
   "metadata": {},
   "outputs": [],
   "source": []
  },
  {
   "cell_type": "code",
   "execution_count": 19,
   "metadata": {},
   "outputs": [],
   "source": [
    "days_dict = {\"Pazartesi\":\"Monday\",\"Salı\":\"Tuesday\",\"Çarşamba\":\"Wednesday\",\"Perşembe\":\"Thursday\",\"Cuma\":\"Friday\"}\n",
    "class Lesson():\n",
    "    def __init__(self, name, days, hours):\n",
    "        self.name = name\n",
    "        self.days = list(map(lambda x: days_dict[x], days.split(\"\\n\")))\n",
    "        self.hours = hours.split(\"\\n\")\n",
    "        self.hours = list(map(lambda x: x.split(\"/\") ,self.hours))\n",
    "    def __str__(self):\n",
    "        return self.name\n",
    "class HourAlreadyFilledError(Exception):\n",
    "    \"\"\"hour already filled\"\"\"\n",
    "    pass\n",
    "class TimeTable():\n",
    "    def __init__(self):\n",
    "        DAYS = [\"Monday\",\"Tuesday\",\"Wednesday\",\"Thursday\",\"Friday\"]\n",
    "        self.__times = {}\n",
    "        for d in DAYS:\n",
    "            for hour in range(8,18):\n",
    "                self.__times[d] = [\"FREE\"] * 9\n",
    "        self.total = 0\n",
    "    def fill_hours(self,lesson):\n",
    "        for day,hour in zip(lesson.days,lesson.hours):\n",
    "            start_hour, end_hour = map(lambda x: int(x[:2]),hour)\n",
    "            for i in range(start_hour,end_hour):\n",
    "                if self.__times[day][i-8] != \"FREE\":\n",
    "                    raise HourAlreadyFilledError\n",
    "                else:\n",
    "                    self.__times[day][i-8] = lesson\n",
    "        self.__df= pd.DataFrame(self.__times,index=[\"08:30-09:29\",\"09:30-10:29\",\"10:30-11:29\",\"11:30-12:29\",\"12:30-13:29\",\"13:30-14:29\",\"14:30-15:29\",\"15:30-16:29\",\"16:30-17:29\"])\n",
    "        return \"SUCCESS\"\n",
    "    def __call__(self):\n",
    "        return self.__df\n",
    "    def score(self):\n",
    "        FREE = \"FREE\"\n",
    "        total = 0\n",
    "        any_day_free = False\n",
    "        for day in self.__times:\n",
    "            classes = self.__times[day]\n",
    "            is_day_free = all(FREE == x for x in classes)\n",
    "            if is_day_free == True:\n",
    "                any_day_free = True\n",
    "            if is_day_free == True:\n",
    "                pass #total += 200\n",
    "            if classes[0] != FREE:\n",
    "                total -= 50\n",
    "            if classes[-1] != FREE:\n",
    "                total -= 20\n",
    "            if all(x not in classes for x in (\"MAT 104\",\"FIZ 102\",\"FIZ 102EL\",\"INS 102\",\"KIM 101\")) and (is_day_free is not True):\n",
    "                total += 20\n",
    "                for i in classes:\n",
    "                    if i != FREE:\n",
    "                        total+=50\n",
    "            for i in range(len(classes)-2):\n",
    "                if classes[i] != FREE and classes[i] != classes[i+1]:\n",
    "                    if classes[i+1] != FREE:\n",
    "                        total -= 20\n",
    "        if any_day_free == False:\n",
    "            pass #total = -1000\n",
    "        self.total = total\n",
    "    def __lt__(self, other):\n",
    "        return self.total<other.total"
   ]
  },
  {
   "cell_type": "code",
   "execution_count": 33,
   "metadata": {},
   "outputs": [],
   "source": [
    "t = 0\n",
    "tables = []\n",
    "for p in perms:\n",
    "    lessons = []\n",
    "    Tt = TimeTable()\n",
    "    try:\n",
    "        for c,o in zip(CLASSES,p):\n",
    "            lessons.append(Lesson(c,*o))\n",
    "        for lesson in lessons:\n",
    "            Tt.fill_hours(lesson)\n",
    "        Tt.score()\n",
    "    except HourAlreadyFilledError:\n",
    "        continue\n",
    "    tables.append(Tt)"
   ]
  },
  {
   "cell_type": "code",
   "execution_count": 25,
   "metadata": {},
   "outputs": [
    {
     "ename": "IndexError",
     "evalue": "list index out of range",
     "output_type": "error",
     "traceback": [
      "\u001b[0;31m---------------------------------------------------------------------------\u001b[0m",
      "\u001b[0;31mIndexError\u001b[0m                                Traceback (most recent call last)",
      "\u001b[0;32m/var/folders/d1/knskf1l11n1ds8yfn01_vz9w0000gn/T/ipykernel_17674/83276099.py\u001b[0m in \u001b[0;36m<module>\u001b[0;34m\u001b[0m\n\u001b[0;32m----> 1\u001b[0;31m \u001b[0mtables\u001b[0m\u001b[0;34m[\u001b[0m\u001b[0;36m0\u001b[0m\u001b[0;34m]\u001b[0m\u001b[0;34m(\u001b[0m\u001b[0;34m)\u001b[0m\u001b[0;34m\u001b[0m\u001b[0;34m\u001b[0m\u001b[0m\n\u001b[0m",
      "\u001b[0;31mIndexError\u001b[0m: list index out of range"
     ]
    }
   ],
   "source": [
    "tables[0]()"
   ]
  },
  {
   "cell_type": "code",
   "execution_count": 15,
   "metadata": {},
   "outputs": [
    {
     "data": {
      "text/plain": [
       "<__main__.TimeTable at 0x1200c6e50>"
      ]
     },
     "execution_count": 15,
     "metadata": {},
     "output_type": "execute_result"
    }
   ],
   "source": [
    "tables[1]()"
   ]
  }
 ],
 "metadata": {
  "interpreter": {
   "hash": "010b172202b91df11f8534a3cf21db1818c5c6d8a67eda3fcc5af55d6af7dc9d"
  },
  "kernelspec": {
   "display_name": "Python 3.8.10 ('datascience')",
   "language": "python",
   "name": "python3"
  },
  "language_info": {
   "codemirror_mode": {
    "name": "ipython",
    "version": 3
   },
   "file_extension": ".py",
   "mimetype": "text/x-python",
   "name": "python",
   "nbconvert_exporter": "python",
   "pygments_lexer": "ipython3",
   "version": "3.8.13"
  },
  "orig_nbformat": 4
 },
 "nbformat": 4,
 "nbformat_minor": 2
}
